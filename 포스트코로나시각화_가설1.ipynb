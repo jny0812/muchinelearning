{
 "cells": [
  {
   "cell_type": "markdown",
   "id": "creative-barbados",
   "metadata": {},
   "source": [
    "## 포스트 코로나 데이터 시각화"
   ]
  },
  {
   "cell_type": "markdown",
   "id": "wrong-dollar",
   "metadata": {},
   "source": [
    "- 가설1:  배달 시장의 수요가 증가로 인해 배달비가 인상될 것이다.\n",
    "- 가설2: 유동인구 수가 감소하는 시기에는 바디.헤어 용품의 소비율이 감소할 것이다."
   ]
  },
  {
   "cell_type": "markdown",
   "id": "going-programmer",
   "metadata": {},
   "source": [
    "### 필요한 모듈 임포트"
   ]
  },
  {
   "cell_type": "code",
   "execution_count": 1,
   "id": "fifty-grammar",
   "metadata": {
    "scrolled": true
   },
   "outputs": [],
   "source": [
    "import pandas as pd\n",
    "import numpy as np\n",
    "import os\n",
    "import matplotlib.pyplot as plt\n",
    "%matplotlib inline\n",
    "import seaborn as sns\n",
    "from pandas import Series, DataFrame\n",
    "\n",
    "import datetime\n",
    "\n",
    "import warnings\n",
    "warnings.filterwarnings('ignore')\n",
    "\n",
    "\n",
    "os.name == 'nt'\n",
    "plt.rc('font', family='Malgun Gothic')"
   ]
  },
  {
   "cell_type": "markdown",
   "id": "effective-catalog",
   "metadata": {},
   "source": [
    "## 가설1. 배달 시장의 수요가 증가로 인해 배달비가 인상될 것이다."
   ]
  },
  {
   "cell_type": "code",
   "execution_count": 2,
   "id": "human-appendix",
   "metadata": {},
   "outputs": [
    {
     "data": {
      "text/html": [
       "<div>\n",
       "<style scoped>\n",
       "    .dataframe tbody tr th:only-of-type {\n",
       "        vertical-align: middle;\n",
       "    }\n",
       "\n",
       "    .dataframe tbody tr th {\n",
       "        vertical-align: top;\n",
       "    }\n",
       "\n",
       "    .dataframe thead th {\n",
       "        text-align: right;\n",
       "    }\n",
       "</style>\n",
       "<table border=\"1\" class=\"dataframe\">\n",
       "  <thead>\n",
       "    <tr style=\"text-align: right;\">\n",
       "      <th></th>\n",
       "      <th>SERIAL_NUMBER</th>\n",
       "      <th>PROCESS_DT</th>\n",
       "      <th>DLVR_RQESTER_ID</th>\n",
       "      <th>DLVR_REQUST_STTUS_VALUE</th>\n",
       "      <th>DLVR_RCEPT_CMPNY_ID</th>\n",
       "      <th>DLVR_STORE_ID</th>\n",
       "      <th>DLVR_STORE_INDUTY_NM</th>\n",
       "      <th>DLVR_STORE_LEGALDONG_CODE</th>\n",
       "      <th>DLVR_STORE_SIDO</th>\n",
       "      <th>DLVR_STORE_SIGUNGU</th>\n",
       "      <th>...</th>\n",
       "      <th>DLVR_MAN_ID</th>\n",
       "      <th>DLVR_AMOUNT</th>\n",
       "      <th>CALL_RLAY_FEE_AMOUNT</th>\n",
       "      <th>GOODS_AMOUNT</th>\n",
       "      <th>SETLE_KND_VALUE</th>\n",
       "      <th>SETLE_CARD_CN</th>\n",
       "      <th>DLVR_RCEPT_TIME</th>\n",
       "      <th>DLVR_CARALC_TIME</th>\n",
       "      <th>DLVR_COMPT_TIME</th>\n",
       "      <th>DLVR_CANCL_TIME</th>\n",
       "    </tr>\n",
       "  </thead>\n",
       "  <tbody>\n",
       "    <tr>\n",
       "      <th>0</th>\n",
       "      <td>4577985</td>\n",
       "      <td>2020-01-01</td>\n",
       "      <td>C000035</td>\n",
       "      <td>1</td>\n",
       "      <td>C000035</td>\n",
       "      <td>S0032342</td>\n",
       "      <td>치킨</td>\n",
       "      <td>4812710600</td>\n",
       "      <td>경상남도</td>\n",
       "      <td>창원시 마산회원구</td>\n",
       "      <td>...</td>\n",
       "      <td>D0005271</td>\n",
       "      <td>4290</td>\n",
       "      <td>300</td>\n",
       "      <td>25000</td>\n",
       "      <td>1</td>\n",
       "      <td>승인:비씨카드사</td>\n",
       "      <td>2020-01-01 00:15:49</td>\n",
       "      <td>2020-01-01 00:21:38</td>\n",
       "      <td>2020-01-01 00:41:37</td>\n",
       "      <td>NaN</td>\n",
       "    </tr>\n",
       "    <tr>\n",
       "      <th>1</th>\n",
       "      <td>4577986</td>\n",
       "      <td>2020-01-01</td>\n",
       "      <td>C000237</td>\n",
       "      <td>1</td>\n",
       "      <td>C000237</td>\n",
       "      <td>S0021847</td>\n",
       "      <td>찜탕</td>\n",
       "      <td>4121010200</td>\n",
       "      <td>경기도</td>\n",
       "      <td>광명시</td>\n",
       "      <td>...</td>\n",
       "      <td>D0003269</td>\n",
       "      <td>4800</td>\n",
       "      <td>200</td>\n",
       "      <td>49000</td>\n",
       "      <td>2</td>\n",
       "      <td>NaN</td>\n",
       "      <td>2020-01-01 01:12:14</td>\n",
       "      <td>2020-01-01 01:21:41</td>\n",
       "      <td>2020-01-01 01:31:44</td>\n",
       "      <td>NaN</td>\n",
       "    </tr>\n",
       "    <tr>\n",
       "      <th>2</th>\n",
       "      <td>4577988</td>\n",
       "      <td>2020-01-01</td>\n",
       "      <td>C000129</td>\n",
       "      <td>1</td>\n",
       "      <td>C000129</td>\n",
       "      <td>S0025740</td>\n",
       "      <td>치킨</td>\n",
       "      <td>1138010400</td>\n",
       "      <td>서울특별시</td>\n",
       "      <td>은평구</td>\n",
       "      <td>...</td>\n",
       "      <td>D0001536</td>\n",
       "      <td>3300</td>\n",
       "      <td>300</td>\n",
       "      <td>23000</td>\n",
       "      <td>3</td>\n",
       "      <td>승인:</td>\n",
       "      <td>2020-01-01 00:01:14</td>\n",
       "      <td>2020-01-01 00:01:47</td>\n",
       "      <td>2020-01-01 00:18:47</td>\n",
       "      <td>NaN</td>\n",
       "    </tr>\n",
       "    <tr>\n",
       "      <th>3</th>\n",
       "      <td>4577989</td>\n",
       "      <td>2020-01-01</td>\n",
       "      <td>C000029</td>\n",
       "      <td>1</td>\n",
       "      <td>C000043</td>\n",
       "      <td>S0039634</td>\n",
       "      <td>한식</td>\n",
       "      <td>4115010100</td>\n",
       "      <td>경기도</td>\n",
       "      <td>의정부시</td>\n",
       "      <td>...</td>\n",
       "      <td>D0005061</td>\n",
       "      <td>4500</td>\n",
       "      <td>300</td>\n",
       "      <td>20000</td>\n",
       "      <td>2</td>\n",
       "      <td>NaN</td>\n",
       "      <td>2020-01-01 01:01:34</td>\n",
       "      <td>2020-01-01 01:28:06</td>\n",
       "      <td>2020-01-01 01:36:48</td>\n",
       "      <td>NaN</td>\n",
       "    </tr>\n",
       "    <tr>\n",
       "      <th>4</th>\n",
       "      <td>4577991</td>\n",
       "      <td>2020-01-01</td>\n",
       "      <td>C000130</td>\n",
       "      <td>1</td>\n",
       "      <td>C000130</td>\n",
       "      <td>S0002237</td>\n",
       "      <td>한식</td>\n",
       "      <td>4128112800</td>\n",
       "      <td>경기도</td>\n",
       "      <td>고양시 덕양구</td>\n",
       "      <td>...</td>\n",
       "      <td>D0005215</td>\n",
       "      <td>6500</td>\n",
       "      <td>300</td>\n",
       "      <td>32000</td>\n",
       "      <td>2</td>\n",
       "      <td>NaN</td>\n",
       "      <td>2020-01-01 01:05:06</td>\n",
       "      <td>2020-01-01 01:08:01</td>\n",
       "      <td>2020-01-01 01:29:00</td>\n",
       "      <td>NaN</td>\n",
       "    </tr>\n",
       "  </tbody>\n",
       "</table>\n",
       "<p>5 rows × 31 columns</p>\n",
       "</div>"
      ],
      "text/plain": [
       "   SERIAL_NUMBER  PROCESS_DT DLVR_RQESTER_ID  DLVR_REQUST_STTUS_VALUE  \\\n",
       "0        4577985  2020-01-01         C000035                        1   \n",
       "1        4577986  2020-01-01         C000237                        1   \n",
       "2        4577988  2020-01-01         C000129                        1   \n",
       "3        4577989  2020-01-01         C000029                        1   \n",
       "4        4577991  2020-01-01         C000130                        1   \n",
       "\n",
       "  DLVR_RCEPT_CMPNY_ID DLVR_STORE_ID DLVR_STORE_INDUTY_NM  \\\n",
       "0             C000035      S0032342                   치킨   \n",
       "1             C000237      S0021847                   찜탕   \n",
       "2             C000129      S0025740                   치킨   \n",
       "3             C000043      S0039634                   한식   \n",
       "4             C000130      S0002237                   한식   \n",
       "\n",
       "   DLVR_STORE_LEGALDONG_CODE DLVR_STORE_SIDO DLVR_STORE_SIGUNGU  ...  \\\n",
       "0                 4812710600            경상남도          창원시 마산회원구  ...   \n",
       "1                 4121010200             경기도                광명시  ...   \n",
       "2                 1138010400           서울특별시                은평구  ...   \n",
       "3                 4115010100             경기도               의정부시  ...   \n",
       "4                 4128112800             경기도            고양시 덕양구  ...   \n",
       "\n",
       "  DLVR_MAN_ID DLVR_AMOUNT  CALL_RLAY_FEE_AMOUNT  GOODS_AMOUNT  \\\n",
       "0    D0005271        4290                   300         25000   \n",
       "1    D0003269        4800                   200         49000   \n",
       "2    D0001536        3300                   300         23000   \n",
       "3    D0005061        4500                   300         20000   \n",
       "4    D0005215        6500                   300         32000   \n",
       "\n",
       "   SETLE_KND_VALUE SETLE_CARD_CN      DLVR_RCEPT_TIME     DLVR_CARALC_TIME  \\\n",
       "0                1      승인:비씨카드사  2020-01-01 00:15:49  2020-01-01 00:21:38   \n",
       "1                2           NaN  2020-01-01 01:12:14  2020-01-01 01:21:41   \n",
       "2                3           승인:  2020-01-01 00:01:14  2020-01-01 00:01:47   \n",
       "3                2           NaN  2020-01-01 01:01:34  2020-01-01 01:28:06   \n",
       "4                2           NaN  2020-01-01 01:05:06  2020-01-01 01:08:01   \n",
       "\n",
       "       DLVR_COMPT_TIME  DLVR_CANCL_TIME  \n",
       "0  2020-01-01 00:41:37              NaN  \n",
       "1  2020-01-01 01:31:44              NaN  \n",
       "2  2020-01-01 00:18:47              NaN  \n",
       "3  2020-01-01 01:36:48              NaN  \n",
       "4  2020-01-01 01:29:00              NaN  \n",
       "\n",
       "[5 rows x 31 columns]"
      ]
     },
     "execution_count": 2,
     "metadata": {},
     "output_type": "execute_result"
    }
   ],
   "source": [
    "#배달 주문량이 증가함을 시각화 &  배달 업체 수수료 증가 시각화 &  배달팁이 증가함을 보여야 함\n",
    "dlvr = pd.read_csv(\"C:/Users/user/Desktop/포스트코로나데이터/delivery.csv\")\n",
    "dlvr.head(5)"
   ]
  },
  {
   "cell_type": "markdown",
   "id": "increasing-death",
   "metadata": {},
   "source": [
    "### 1) 주 단위로 평균량 시각화\n",
    "* delivery 데이터에서 데이터 순서를 나타내는 'SERIAL_NUMBER' 데이터를 이용해 배달 주문량을 계산\n",
    "* 'SERIAL_NUMBER'를 주 단위로 count하여 시각화함"
   ]
  },
  {
   "cell_type": "code",
   "execution_count": 3,
   "id": "hidden-satin",
   "metadata": {},
   "outputs": [
    {
     "data": {
      "text/plain": [
       "date\n",
       "2020-01-05    139868\n",
       "2020-01-12    211683\n",
       "2020-01-19    186225\n",
       "2020-01-26    157549\n",
       "2020-02-02    201385\n",
       "2020-02-09    218639\n",
       "2020-02-16    203830\n",
       "2020-02-23    213952\n",
       "2020-03-01    226161\n",
       "2020-03-08    218703\n",
       "2020-03-15    227710\n",
       "2020-03-22    216040\n",
       "2020-03-29    214838\n",
       "2020-04-05    224843\n",
       "2020-04-12    215261\n",
       "2020-04-19    235045\n",
       "2020-04-26    227818\n",
       "2020-05-03    218866\n",
       "2020-05-10    244962\n",
       "2020-05-17    239050\n",
       "2020-05-24    207129\n",
       "2020-05-31    232395\n",
       "2020-06-07    231228\n",
       "2020-06-14    159244\n",
       "2020-06-21     85900\n",
       "Freq: W-SUN, Name: SERIAL_NUMBER, dtype: int64"
      ]
     },
     "execution_count": 3,
     "metadata": {},
     "output_type": "execute_result"
    }
   ],
   "source": [
    "#주 단위로 count 하기 (배달 주문량)\n",
    "\n",
    "dlvr['date'] = pd.to_datetime(dlvr['PROCESS_DT'])\n",
    "dlvr['date'] = dlvr['date'].apply( lambda dlvr: datetime.datetime(year=dlvr.year, month=dlvr.month, day=dlvr.day))\n",
    "dlvr.set_index('date',inplace=True)\n",
    "\n",
    "dlvr_weekly_count = dlvr.resample('W').count()\n",
    "\n",
    "dlvr_weekly_count.SERIAL_NUMBER"
   ]
  },
  {
   "cell_type": "code",
   "execution_count": 4,
   "id": "worst-remains",
   "metadata": {},
   "outputs": [
    {
     "data": {
      "image/png": "[encoded data removed]",
      "text/plain": [
       "<Figure size 432x432 with 1 Axes>"
      ]
     },
     "metadata": {
      "needs_background": "light"
     },
     "output_type": "display_data"
    }
   ],
   "source": [
    "#주문량 시각화 (weekly count)\n",
    "\n",
    "fig = plt.figure()\n",
    "fig.set_size_inches(6, 6)\n",
    "plt.plot(dlvr_weekly_count['SERIAL_NUMBER'], c='purple', marker='.')\n",
    "plt.title('배달 주문량 (weekly count)', fontsize = 14)\n",
    "plt.show()"
   ]
  },
  {
   "cell_type": "code",
   "execution_count": 5,
   "id": "after-lambda",
   "metadata": {},
   "outputs": [
    {
     "data": {
      "image/png": "[encoded data removed]",
      "text/plain": [
       "<Figure size 432x432 with 1 Axes>"
      ]
     },
     "metadata": {
      "needs_background": "light"
     },
     "output_type": "display_data"
    }
   ],
   "source": [
    "dlvr_monthly_count = dlvr.resample('M').count()\n",
    "\n",
    "fig = plt.figure()\n",
    "fig.set_size_inches(6, 6)\n",
    "plt.plot(dlvr_monthly_count['SERIAL_NUMBER'], c='purple', marker='.')\n",
    "plt.title('배달 주문량 (monthly count)', fontsize = 14)\n",
    "plt.show()"
   ]
  },
  {
   "cell_type": "markdown",
   "id": "regulation-honey",
   "metadata": {},
   "source": [
    "- 결과\n",
    "    * 4월까지 증가 & 5월에서 6월까지 증가"
   ]
  },
  {
   "cell_type": "markdown",
   "id": "visible-nickel",
   "metadata": {},
   "source": [
    "### 2) 수수료 & 배달비 증가 시각화"
   ]
  },
  {
   "cell_type": "code",
   "execution_count": 6,
   "id": "ranging-purpose",
   "metadata": {},
   "outputs": [
    {
     "data": {
      "text/html": [
       "<div>\n",
       "<style scoped>\n",
       "    .dataframe tbody tr th:only-of-type {\n",
       "        vertical-align: middle;\n",
       "    }\n",
       "\n",
       "    .dataframe tbody tr th {\n",
       "        vertical-align: top;\n",
       "    }\n",
       "\n",
       "    .dataframe thead th {\n",
       "        text-align: right;\n",
       "    }\n",
       "</style>\n",
       "<table border=\"1\" class=\"dataframe\">\n",
       "  <thead>\n",
       "    <tr style=\"text-align: right;\">\n",
       "      <th></th>\n",
       "      <th>DLVR_AMOUNT</th>\n",
       "      <th>CALL_RLAY_FEE_AMOUNT</th>\n",
       "    </tr>\n",
       "    <tr>\n",
       "      <th>date</th>\n",
       "      <th></th>\n",
       "      <th></th>\n",
       "    </tr>\n",
       "  </thead>\n",
       "  <tbody>\n",
       "    <tr>\n",
       "      <th>2020-01-01</th>\n",
       "      <td>4290</td>\n",
       "      <td>300</td>\n",
       "    </tr>\n",
       "    <tr>\n",
       "      <th>2020-01-01</th>\n",
       "      <td>4800</td>\n",
       "      <td>200</td>\n",
       "    </tr>\n",
       "    <tr>\n",
       "      <th>2020-01-01</th>\n",
       "      <td>3300</td>\n",
       "      <td>300</td>\n",
       "    </tr>\n",
       "    <tr>\n",
       "      <th>2020-01-01</th>\n",
       "      <td>4500</td>\n",
       "      <td>300</td>\n",
       "    </tr>\n",
       "    <tr>\n",
       "      <th>2020-01-01</th>\n",
       "      <td>6500</td>\n",
       "      <td>300</td>\n",
       "    </tr>\n",
       "    <tr>\n",
       "      <th>2020-01-01</th>\n",
       "      <td>3500</td>\n",
       "      <td>200</td>\n",
       "    </tr>\n",
       "    <tr>\n",
       "      <th>2020-01-01</th>\n",
       "      <td>3800</td>\n",
       "      <td>300</td>\n",
       "    </tr>\n",
       "    <tr>\n",
       "      <th>2020-01-01</th>\n",
       "      <td>3500</td>\n",
       "      <td>200</td>\n",
       "    </tr>\n",
       "    <tr>\n",
       "      <th>2020-01-01</th>\n",
       "      <td>4800</td>\n",
       "      <td>200</td>\n",
       "    </tr>\n",
       "    <tr>\n",
       "      <th>2020-01-01</th>\n",
       "      <td>3500</td>\n",
       "      <td>300</td>\n",
       "    </tr>\n",
       "  </tbody>\n",
       "</table>\n",
       "</div>"
      ],
      "text/plain": [
       "            DLVR_AMOUNT  CALL_RLAY_FEE_AMOUNT\n",
       "date                                         \n",
       "2020-01-01         4290                   300\n",
       "2020-01-01         4800                   200\n",
       "2020-01-01         3300                   300\n",
       "2020-01-01         4500                   300\n",
       "2020-01-01         6500                   300\n",
       "2020-01-01         3500                   200\n",
       "2020-01-01         3800                   300\n",
       "2020-01-01         3500                   200\n",
       "2020-01-01         4800                   200\n",
       "2020-01-01         3500                   300"
      ]
     },
     "execution_count": 6,
     "metadata": {},
     "output_type": "execute_result"
    }
   ],
   "source": [
    "#수수료 & 배달비 \n",
    "\n",
    "dlvr[[\"DLVR_AMOUNT\",\"CALL_RLAY_FEE_AMOUNT\"]].head(10)"
   ]
  },
  {
   "cell_type": "markdown",
   "id": "opened-transmission",
   "metadata": {},
   "source": [
    "- 월 별로 배달비 & 수수료의 변화 추세를 시각화 (평균값)"
   ]
  },
  {
   "cell_type": "code",
   "execution_count": 7,
   "id": "revised-pottery",
   "metadata": {},
   "outputs": [
    {
     "data": {
      "text/html": [
       "<div>\n",
       "<style scoped>\n",
       "    .dataframe tbody tr th:only-of-type {\n",
       "        vertical-align: middle;\n",
       "    }\n",
       "\n",
       "    .dataframe tbody tr th {\n",
       "        vertical-align: top;\n",
       "    }\n",
       "\n",
       "    .dataframe thead th {\n",
       "        text-align: right;\n",
       "    }\n",
       "</style>\n",
       "<table border=\"1\" class=\"dataframe\">\n",
       "  <thead>\n",
       "    <tr style=\"text-align: right;\">\n",
       "      <th></th>\n",
       "      <th>DLVR_AMOUNT</th>\n",
       "      <th>CALL_RLAY_FEE_AMOUNT</th>\n",
       "    </tr>\n",
       "    <tr>\n",
       "      <th>date</th>\n",
       "      <th></th>\n",
       "      <th></th>\n",
       "    </tr>\n",
       "  </thead>\n",
       "  <tbody>\n",
       "    <tr>\n",
       "      <th>2020-01-31</th>\n",
       "      <td>3630.214523</td>\n",
       "      <td>260.706505</td>\n",
       "    </tr>\n",
       "    <tr>\n",
       "      <th>2020-02-29</th>\n",
       "      <td>3620.551579</td>\n",
       "      <td>262.544649</td>\n",
       "    </tr>\n",
       "    <tr>\n",
       "      <th>2020-03-31</th>\n",
       "      <td>3628.074970</td>\n",
       "      <td>268.705586</td>\n",
       "    </tr>\n",
       "    <tr>\n",
       "      <th>2020-04-30</th>\n",
       "      <td>3690.031827</td>\n",
       "      <td>272.418702</td>\n",
       "    </tr>\n",
       "    <tr>\n",
       "      <th>2020-05-31</th>\n",
       "      <td>3686.859705</td>\n",
       "      <td>269.078660</td>\n",
       "    </tr>\n",
       "    <tr>\n",
       "      <th>2020-06-30</th>\n",
       "      <td>3676.117379</td>\n",
       "      <td>268.086023</td>\n",
       "    </tr>\n",
       "  </tbody>\n",
       "</table>\n",
       "</div>"
      ],
      "text/plain": [
       "            DLVR_AMOUNT  CALL_RLAY_FEE_AMOUNT\n",
       "date                                         \n",
       "2020-01-31  3630.214523            260.706505\n",
       "2020-02-29  3620.551579            262.544649\n",
       "2020-03-31  3628.074970            268.705586\n",
       "2020-04-30  3690.031827            272.418702\n",
       "2020-05-31  3686.859705            269.078660\n",
       "2020-06-30  3676.117379            268.086023"
      ]
     },
     "execution_count": 7,
     "metadata": {},
     "output_type": "execute_result"
    }
   ],
   "source": [
    "#월 단위로 평균값 계산\n",
    "dlvr_weekly_avg = dlvr.resample('W').mean()\n",
    "dlvr_monthly_avg = dlvr.resample('M').mean()\n",
    "\n",
    "dlvr_monthly_avg[[\"DLVR_AMOUNT\",\"CALL_RLAY_FEE_AMOUNT\"]]"
   ]
  },
  {
   "cell_type": "code",
   "execution_count": 9,
   "id": "blank-suspension",
   "metadata": {
    "scrolled": true
   },
   "outputs": [
    {
     "data": {
      "image/png": "[encoded data removed]",
      "text/plain": [
       "<Figure size 792x360 with 2 Axes>"
      ]
     },
     "metadata": {
      "needs_background": "light"
     },
     "output_type": "display_data"
    }
   ],
   "source": [
    "# 시간에 따른 수수료 & 배달비 변화 시각화 -> monthly\n",
    "\n",
    "fig = plt.figure()\n",
    "fig.set_size_inches(11,5)\n",
    "ax = []\n",
    "\n",
    "dlvr_monthly_avg = dlvr.resample('M').mean()\n",
    "\n",
    "for i in range(1,3):\n",
    "    ax.append(fig.add_subplot(1,2,i))\n",
    "ax[0].plot(dlvr_monthly_avg[\"DLVR_AMOUNT\"], c=\"orangered\", linestyle=\"-\")\n",
    "ax[1].plot(dlvr_monthly_avg[\"CALL_RLAY_FEE_AMOUNT\"],color=\"limegreen\", linestyle=\"-\", label='수수료') \n",
    "\n",
    "ax[0].set_title(\"배달비 변화 추세 (monthly avg)\",fontsize=\"13\")\n",
    "ax[0].set_ylabel(\"(단위: 원)\")\n",
    "\n",
    "ax[1].set_title(\"수수료 변화 추세(monthly avg)\",fontsize=\"13\")\n",
    "\n",
    "plt.legend(shadow=False, fancybox=True)\n",
    "\n",
    "plt.show()"
   ]
  },
  {
   "cell_type": "code",
   "execution_count": 10,
   "id": "cultural-projector",
   "metadata": {},
   "outputs": [
    {
     "data": {
      "image/png": "[encoded data removed]",
      "text/plain": [
       "<Figure size 792x360 with 2 Axes>"
      ]
     },
     "metadata": {
      "needs_background": "light"
     },
     "output_type": "display_data"
    }
   ],
   "source": [
    "#weekly average\n",
    "\n",
    "fig = plt.figure()\n",
    "fig.set_size_inches(11,5)\n",
    "ax = []\n",
    "\n",
    "for i in range(1,3):\n",
    "    ax.append(fig.add_subplot(1,2,i))\n",
    "ax[0].plot(dlvr_weekly_avg[\"DLVR_AMOUNT\"], c=\"r\", linestyle=\"-\")\n",
    "ax[1].plot(dlvr_weekly_avg[\"CALL_RLAY_FEE_AMOUNT\"],color=\"b\", linestyle=\"-\", label='수수료') \n",
    "\n",
    "ax[0].set_title(\"배달비 변화 추세 (weekly avg)\",fontsize=\"13\")\n",
    "ax[0].set_ylabel(\"(단위: 원)\")\n",
    "\n",
    "ax[1].set_title(\"수수료 변화 추세(weekly avg)\",fontsize=\"13\")\n",
    "\n",
    "plt.legend(shadow=False, fancybox=True)\n",
    "\n",
    "plt.show()"
   ]
  },
  {
   "cell_type": "markdown",
   "id": "acknowledged-vehicle",
   "metadata": {},
   "source": [
    "##### -> weekly average 는 기복이 있었고  montly average로 봤을 때는 흐름을 어느 정도 읽을 수 있었다."
   ]
  },
  {
   "cell_type": "markdown",
   "id": "unlimited-xerox",
   "metadata": {},
   "source": [
    "-  결과:\n",
    "   -  배달비와 수수료는 2020년 4월 즈음, 급격하게 증가한 상황을 알 수 있다.\n",
    "  \n",
    "   >  배달 주문량의 증가와 배달비 및 수수료의 증가가 서로 연관되어 있다고 추측하였고 \n",
    "둘의 상관관계가 실제로 존재하는지 확인해보도록 하자."
   ]
  },
  {
   "cell_type": "code",
   "execution_count": 11,
   "id": "referenced-linux",
   "metadata": {},
   "outputs": [
    {
     "data": {
      "text/plain": [
       "0.026235425791629224"
      ]
     },
     "execution_count": 11,
     "metadata": {},
     "output_type": "execute_result"
    }
   ],
   "source": [
    "#주문량과 배달비와의 상관계수 -> weekly\n",
    "\n",
    "dlvr_weekly_avg.DLVR_AMOUNT.corr(dlvr_weekly_count.SERIAL_NUMBER)"
   ]
  },
  {
   "cell_type": "code",
   "execution_count": 12,
   "id": "responsible-habitat",
   "metadata": {},
   "outputs": [
    {
     "data": {
      "text/plain": [
       "-0.0763010208551199"
      ]
     },
     "execution_count": 12,
     "metadata": {},
     "output_type": "execute_result"
    }
   ],
   "source": [
    "#주문량과 배달비와의 상관계수 -> monthly\n",
    "\n",
    "dlvr_monthly_avg.DLVR_AMOUNT.corr(dlvr_monthly_count.SERIAL_NUMBER)"
   ]
  },
  {
   "cell_type": "code",
   "execution_count": 13,
   "id": "global-income",
   "metadata": {},
   "outputs": [
    {
     "data": {
      "text/plain": [
       "0.22971173277920423"
      ]
     },
     "execution_count": 13,
     "metadata": {},
     "output_type": "execute_result"
    }
   ],
   "source": [
    "#주문량과 수수료와의 상관계수 -> weekly\n",
    "            \n",
    "dlvr_weekly_avg.CALL_RLAY_FEE_AMOUNT.corr(dlvr_weekly_count.SERIAL_NUMBER)"
   ]
  },
  {
   "cell_type": "code",
   "execution_count": 14,
   "id": "aging-tradition",
   "metadata": {},
   "outputs": [
    {
     "data": {
      "text/plain": [
       "0.17238298687565023"
      ]
     },
     "execution_count": 14,
     "metadata": {},
     "output_type": "execute_result"
    }
   ],
   "source": [
    "#주문량과 수수료와의 상관계수 -> monthly\n",
    "\n",
    "dlvr_monthly_avg.CALL_RLAY_FEE_AMOUNT.corr(dlvr_monthly_count.SERIAL_NUMBER)"
   ]
  },
  {
   "cell_type": "code",
   "execution_count": 15,
   "id": "consecutive-airfare",
   "metadata": {},
   "outputs": [
    {
     "data": {
      "text/plain": [
       "0.22971173277920423"
      ]
     },
     "execution_count": 15,
     "metadata": {},
     "output_type": "execute_result"
    }
   ],
   "source": [
    "#배달비와 수수료의 상관계수 -> weekly\n",
    "\n",
    "dlvr_weekly_avg.CALL_RLAY_FEE_AMOUNT.corr(dlvr_weekly_count.DLVR_AMOUNT)"
   ]
  },
  {
   "cell_type": "code",
   "execution_count": 25,
   "id": "indie-founder",
   "metadata": {
    "scrolled": true
   },
   "outputs": [
    {
     "data": {
      "image/png": "[encoded data removed]",
      "text/plain": [
       "<Figure size 792x360 with 2 Axes>"
      ]
     },
     "metadata": {
      "needs_background": "light"
     },
     "output_type": "display_data"
    }
   ],
   "source": [
    "#산점도(scatter plot)를 통해 배달비&주문량 , 수수료&주문량 상관관계 시각화 -> monthly\n",
    "\n",
    "fig = plt.figure()\n",
    "fig.set_size_inches(11,5)\n",
    "ax = []\n",
    "\n",
    "for i in range(1,3):\n",
    "    ax.append(fig.add_subplot(1,2,i))\n",
    "ax[0].scatter(dlvr_monthly_count[\"SERIAL_NUMBER\"], dlvr_monthly_avg[\"DLVR_AMOUNT\"],c=\"deeppink\")\n",
    "ax[1].scatter(dlvr_monthly_count[\"SERIAL_NUMBER\"],dlvr_monthly_avg[\"CALL_RLAY_FEE_AMOUNT\"], color=\"green\",label=\"수수료\") \n",
    "          \n",
    "ax[0].set_title(\"delivery amount & delivery order\",fontsize=\"13\")\n",
    "ax[1].set_title(\"commission & delivery order\",fontsize=\"13\")\n",
    "\n",
    "\n",
    "plt.legend(shadow=False, fancybox=True)\n",
    "\n",
    "plt.show()"
   ]
  },
  {
   "cell_type": "markdown",
   "id": "declared-architecture",
   "metadata": {},
   "source": [
    "- -> monthly는 data 양이 적어 시각화가 어렵다"
   ]
  },
  {
   "cell_type": "code",
   "execution_count": 19,
   "id": "ranking-noise",
   "metadata": {},
   "outputs": [
    {
     "data": {
      "text/plain": [
       "-0.0763010208551199"
      ]
     },
     "execution_count": 19,
     "metadata": {},
     "output_type": "execute_result"
    }
   ],
   "source": [
    "#주문량과 배달비와의 상관계수 -> monthly\n",
    "\n",
    "dlvr_monthly_avg.DLVR_AMOUNT.corr(dlvr_monthly_count.SERIAL_NUMBER)"
   ]
  },
  {
   "cell_type": "code",
   "execution_count": 22,
   "id": "polyphonic-consumption",
   "metadata": {},
   "outputs": [
    {
     "data": {
      "text/plain": [
       "0.17238298687565023"
      ]
     },
     "execution_count": 22,
     "metadata": {},
     "output_type": "execute_result"
    }
   ],
   "source": [
    "#주문량과 수수료와의 상관계수 -> monthly\n",
    "\n",
    "dlvr_monthly_count.SERIAL_NUMBER.corr(dlvr_monthly_avg.CALL_RLAY_FEE_AMOUNT)"
   ]
  },
  {
   "cell_type": "markdown",
   "id": "governing-assessment",
   "metadata": {},
   "source": [
    "- 역시 상관계수를 봐도 관계성이 없음을 알 수 있다."
   ]
  },
  {
   "cell_type": "markdown",
   "id": "surface-absence",
   "metadata": {},
   "source": []
  },
  {
   "cell_type": "code",
   "execution_count": 26,
   "id": "obvious-rainbow",
   "metadata": {
    "scrolled": true
   },
   "outputs": [
    {
     "data": {
      "image/png": "[encoded data removed]",
      "text/plain": [
       "<Figure size 1008x360 with 2 Axes>"
      ]
     },
     "metadata": {
      "needs_background": "light"
     },
     "output_type": "display_data"
    }
   ],
   "source": [
    "#산점도(scatter plot)를 통해 배달비&주문량 , 수수료&주문량 상관관계 시각화 -> weekly\n",
    "\n",
    "fig = plt.figure()\n",
    "fig.set_size_inches(14,5)\n",
    "ax = []\n",
    "\n",
    "for i in range(1,3):\n",
    "    ax.append(fig.add_subplot(1,2,i))\n",
    "ax[0].scatter(dlvr_weekly_count[\"SERIAL_NUMBER\"], dlvr_weekly_avg[\"DLVR_AMOUNT\"],c=\"deeppink\")\n",
    "ax[1].scatter(dlvr_weekly_count[\"SERIAL_NUMBER\"],dlvr_weekly_avg[\"CALL_RLAY_FEE_AMOUNT\"], color=\"green\",label=\"수수료\") \n",
    "          \n",
    "ax[0].set_title(\"delivery amount & delivery order\",fontsize=\"13\")\n",
    "ax[1].set_title(\"commission & delivery order\",fontsize=\"13\")\n",
    "\n",
    "\n",
    "plt.legend(shadow=False, fancybox=True)\n",
    "\n",
    "plt.show()"
   ]
  },
  {
   "cell_type": "markdown",
   "id": "short-appendix",
   "metadata": {},
   "source": [
    "- weekly 그래프 봤을 때, 주문량과 배달비 그래프가 200000건 이후로 기울기가 급한 선형적인 흐름을 어느 정도 확인할 수 있었다."
   ]
  },
  {
   "cell_type": "code",
   "execution_count": 29,
   "id": "right-broadway",
   "metadata": {},
   "outputs": [
    {
     "data": {
      "text/plain": [
       "0.026235425791629224"
      ]
     },
     "execution_count": 29,
     "metadata": {},
     "output_type": "execute_result"
    }
   ],
   "source": [
    "#주문량과 배달비와의 상관계수 -> weekly\n",
    "\n",
    "dlvr_weekly_avg.DLVR_AMOUNT.corr(dlvr_weekly_count.SERIAL_NUMBER)"
   ]
  },
  {
   "cell_type": "code",
   "execution_count": 28,
   "id": "responsible-reach",
   "metadata": {},
   "outputs": [
    {
     "data": {
      "text/plain": [
       "0.22971173277920423"
      ]
     },
     "execution_count": 28,
     "metadata": {},
     "output_type": "execute_result"
    }
   ],
   "source": [
    "#주문량과 수수료와의 상관계수 -> weekly\n",
    "\n",
    "dlvr_weekly_avg.CALL_RLAY_FEE_AMOUNT.corr(dlvr_weekly_count.SERIAL_NUMBER)"
   ]
  },
  {
   "cell_type": "code",
   "execution_count": 24,
   "id": "comparative-stuart",
   "metadata": {
    "scrolled": true
   },
   "outputs": [
    {
     "data": {
      "image/png": "[encoded data removed]",
      "text/plain": [
       "<Figure size 1008x360 with 2 Axes>"
      ]
     },
     "metadata": {
      "needs_background": "light"
     },
     "output_type": "display_data"
    }
   ],
   "source": [
    "#일 단위로 계산\n",
    "\n",
    "dlvr_daily_avg = dlvr.resample('D').mean()\n",
    "dlvr_daily_count = dlvr.resample('D').count()\n",
    "\n",
    "#산점도(scatter plot)를 통해 배달비&주문량 , 수수료&주문량 상관관계 시각화 -> daily\n",
    "\n",
    "fig = plt.figure()\n",
    "fig.set_size_inches(14,5)\n",
    "ax = []\n",
    "\n",
    "for i in range(1,3):\n",
    "    ax.append(fig.add_subplot(1,2,i))\n",
    "ax[0].scatter(dlvr_daily_count[\"SERIAL_NUMBER\"], dlvr_daily_avg[\"DLVR_AMOUNT\"],c=\"deeppink\")\n",
    "ax[1].scatter(dlvr_daily_count[\"SERIAL_NUMBER\"],dlvr_daily_avg[\"CALL_RLAY_FEE_AMOUNT\"], color=\"green\",label=\"수수료\") \n",
    "          \n",
    "ax[0].set_title(\"delivery order & delivery amount\",fontsize=\"13\")\n",
    "ax[1].set_title(\"delivery order & commission\",fontsize=\"13\")\n",
    "\n",
    "\n",
    "plt.legend(shadow=False, fancybox=True)\n",
    "\n",
    "plt.show()"
   ]
  },
  {
   "cell_type": "markdown",
   "id": "pharmaceutical-difficulty",
   "metadata": {},
   "source": [
    "- daily로 시각화 했을 때, 주문량 & 배달비 그래프는 상관관계가 있음을 확실히 알 수 있지만 주문량 & 수수료 그래프는 선형보다 원 모양에 근접하므로 관계성이 거의 없다고 볼 수 있다."
   ]
  },
  {
   "cell_type": "code",
   "execution_count": 79,
   "id": "sustained-visitor",
   "metadata": {},
   "outputs": [
    {
     "data": {
      "text/plain": [
       "0.12708551776639143"
      ]
     },
     "execution_count": 79,
     "metadata": {},
     "output_type": "execute_result"
    }
   ],
   "source": [
    "#주문량과 배달비와의 상관계수 -> daily\n",
    "\n",
    "dlvr_daily_avg.DLVR_AMOUNT.corr(dlvr_daily_count.SERIAL_NUMBER)"
   ]
  },
  {
   "cell_type": "markdown",
   "id": "baking-hypothetical",
   "metadata": {},
   "source": [
    "* 하지만 상관계수를 봤을 때 크게 관련성이 없는 것으로 보인다."
   ]
  },
  {
   "cell_type": "code",
   "execution_count": 30,
   "id": "compliant-pontiac",
   "metadata": {},
   "outputs": [
    {
     "data": {
      "text/plain": [
       "0.016232295582184565"
      ]
     },
     "execution_count": 30,
     "metadata": {},
     "output_type": "execute_result"
    }
   ],
   "source": [
    "#주문량과 배달비와의 상관계수 -> daily\n",
    "\n",
    "dlvr_daily_avg.CALL_RLAY_FEE_AMOUNT.corr(dlvr_daily_count.SERIAL_NUMBER)"
   ]
  },
  {
   "cell_type": "markdown",
   "id": "ordinary-algeria",
   "metadata": {},
   "source": [
    "#### <결과>\n",
    "  - 여러가지 경우에 따라 시각화를 해봤지만 일정한 패턴을 보이지 않는 것으로 보아 가설 1은 틀렸다."
   ]
  },
  {
   "cell_type": "markdown",
   "id": "global-briefs",
   "metadata": {},
   "source": []
  }
 ],
 "metadata": {
  "kernelspec": {
   "display_name": "Python 3",
   "language": "python",
   "name": "python3"
  },
  "language_info": {
   "codemirror_mode": {
    "name": "ipython",
    "version": 3
   },
   "file_extension": ".py",
   "mimetype": "text/x-python",
   "name": "python",
   "nbconvert_exporter": "python",
   "pygments_lexer": "ipython3",
   "version": "3.6.12"
  }
 },
 "nbformat": 4,
 "nbformat_minor": 5
}
